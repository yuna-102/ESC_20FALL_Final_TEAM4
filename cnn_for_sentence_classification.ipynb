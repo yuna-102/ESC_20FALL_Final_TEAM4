{
  "nbformat": 4,
  "nbformat_minor": 0,
  "metadata": {
    "colab": {
      "name": "cnn for sentence classification.ipynb",
      "provenance": [],
      "collapsed_sections": [],
      "machine_shape": "hm",
      "include_colab_link": true
    },
    "kernelspec": {
      "name": "python3",
      "display_name": "Python 3"
    },
    "accelerator": "GPU"
  },
  "cells": [
    {
      "cell_type": "markdown",
      "metadata": {
        "id": "view-in-github",
        "colab_type": "text"
      },
      "source": [
        "<a href=\"https://colab.research.google.com/github/yuna-102/ESC_20FALL_Final_TEAM4/blob/main/cnn_for_sentence_classification.ipynb\" target=\"_parent\"><img src=\"https://colab.research.google.com/assets/colab-badge.svg\" alt=\"Open In Colab\"/></a>"
      ]
    },
    {
      "cell_type": "code",
      "metadata": {
        "colab": {
          "base_uri": "https://localhost:8080/"
        },
        "id": "wJ21LW22bpVZ",
        "outputId": "0992b1bb-da92-4b22-9164-132e31062e86"
      },
      "source": [
        "!git clone https://github.com/yuna-102/ESC_20FALL_Final_TEAM4.git"
      ],
      "execution_count": 31,
      "outputs": [
        {
          "output_type": "stream",
          "text": [
            "Cloning into 'ESC_20FALL_Final_TEAM4'...\n",
            "remote: Enumerating objects: 240, done.\u001b[K\n",
            "remote: Counting objects: 100% (240/240), done.\u001b[K\n",
            "remote: Compressing objects: 100% (181/181), done.\u001b[K\n",
            "remote: Total 240 (delta 127), reused 150 (delta 55), pack-reused 0\u001b[K\n",
            "Receiving objects: 100% (240/240), 1.08 MiB | 14.89 MiB/s, done.\n",
            "Resolving deltas: 100% (127/127), done.\n"
          ],
          "name": "stdout"
        }
      ]
    },
    {
      "cell_type": "code",
      "metadata": {
        "colab": {
          "base_uri": "https://localhost:8080/"
        },
        "id": "SY1-52aidVlp",
        "outputId": "45e7531d-f5ee-4339-85ef-c7b2ca3dd5b1"
      },
      "source": [
        "!ls"
      ],
      "execution_count": 32,
      "outputs": [
        {
          "output_type": "stream",
          "text": [
            "cnn_for_sentence_classification.ipynb  model.py\n",
            "crawl-300d-2M.vec\t\t       pretrained_vectors.py\n",
            "crawl-300d-2M.vec.zip\t\t       __pycache__\n",
            "Data\t\t\t\t       README.md\n",
            "dataset.py\t\t\t       rt-polaritydata.tar.gz\n",
            "device.py\t\t\t       save_embeddings.py\n",
            "ESC_20FALL_Final_TEAM4\t\t       trained_embeddings_rand.txt\n",
            "main.py\t\t\t\t       train.py\n"
          ],
          "name": "stdout"
        }
      ]
    },
    {
      "cell_type": "code",
      "metadata": {
        "colab": {
          "base_uri": "https://localhost:8080/"
        },
        "id": "-RoK7xvzdYb_",
        "outputId": "09e04b4b-8440-4564-cd3a-4a72acac133c"
      },
      "source": [
        "%cd ESC_20FALL_Final_TEAM4/"
      ],
      "execution_count": 33,
      "outputs": [
        {
          "output_type": "stream",
          "text": [
            "/content/ESC_20FALL_Final_TEAM4/ESC_20FALL_Final_TEAM4\n"
          ],
          "name": "stdout"
        }
      ]
    },
    {
      "cell_type": "code",
      "metadata": {
        "id": "u1wHkSVbgftW"
      },
      "source": [
        "# cnn-rand\n",
        "!python main.py --mode rand"
      ],
      "execution_count": null,
      "outputs": []
    },
    {
      "cell_type": "code",
      "metadata": {
        "id": "-EomuRmxgiWn"
      },
      "source": [
        "# cnn-static with fasttext\n",
        "!python main.py --mode static"
      ],
      "execution_count": null,
      "outputs": []
    },
    {
      "cell_type": "code",
      "metadata": {
        "id": "Yhek2nIeguRU"
      },
      "source": [
        "# cnn-non-static with fasttext\n",
        "!python main.py"
      ],
      "execution_count": null,
      "outputs": []
    },
    {
      "cell_type": "code",
      "metadata": {
        "id": "AkCD8ZjfhD8O"
      },
      "source": [
        "# cnn-static with Word2Vec\n",
        "!python main.py --mode static --pretrained-word-vectors Word2Vec"
      ],
      "execution_count": null,
      "outputs": []
    },
    {
      "cell_type": "code",
      "metadata": {
        "id": "yPFGGt1Qg2XS"
      },
      "source": [
        "# cnn-non-static with Word2Vec\n",
        "!python main.py --pretrained-word-vectors Word2Vec"
      ],
      "execution_count": null,
      "outputs": []
    }
  ]
}